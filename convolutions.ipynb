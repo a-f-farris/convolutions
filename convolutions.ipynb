{
 "cells": [
  {
   "cell_type": "code",
   "execution_count": 1,
   "id": "5f95ac45",
   "metadata": {},
   "outputs": [],
   "source": [
    "# for this project we'll use numpy to compute, and\n",
    "# matplotlib to plot. If you haven't already, you can\n",
    "# install these by running E.g.\n",
    "#\n",
    "#      conda install numpy\n",
    "#\n",
    "# and\n",
    "#\n",
    "#      conda install matplotlib\n",
    "#\n",
    "# in your terminal.\n",
    "\n",
    "\n",
    "import numpy\n",
    "import matplotlib.pyplot\n",
    "\n"
   ]
  },
  {
   "cell_type": "markdown",
   "id": "7fa4b761",
   "metadata": {},
   "source": [
    "Suppose that we have two random variables, $X$ and $Y$, independent, and with some identical distribution. \n",
    "\n",
    "What's the distribution of $Z = X + Y$ ?\n",
    "\n",
    "In general, this will depend on what the 'identical distribution' was. \n",
    "\n",
    "For sake of example, let's look at the uniform distribution over the support (i.e. set of possible values) $\\{0,1,2,3,4\\}$. Sometimes we like to call this $\\mathscr{U}\\big(\\{0,1,2,3,4\\}\\big)$."
   ]
  },
  {
   "cell_type": "code",
   "execution_count": 2,
   "id": "38e8a26d",
   "metadata": {},
   "outputs": [
    {
     "data": {
      "image/png": "[encoded data removed]",
      "text/plain": [
       "<Figure size 432x288 with 1 Axes>"
      ]
     },
     "metadata": {
      "needs_background": "light"
     },
     "output_type": "display_data"
    }
   ],
   "source": [
    "# Here's a representation of the uniform distribution over [0,1,2,3,4]:\n",
    "p = [0.2, 0.2, 0.2, 0.2, 0.2] # these probs must sum to 1!\n",
    "x = list(range(5)) # here is the support of the distribution\n",
    "matplotlib.pyplot.bar(x, p);"
   ]
  },
  {
   "cell_type": "markdown",
   "id": "eb5800eb",
   "metadata": {},
   "source": [
    "Since each of $X$ and $Y$ will be one of $\\{0,1,2,3,4\\}$, Z will be one of $\\{0,1,2,...,8\\}$; the distribution of $Z$ over this support is called the convolution of $\\mathscr{U}\\big(\\{0,1,2,3,4\\}\\big)$ with itself. \n",
    "\n",
    "What does this distribution look like? We can resolve this by looking at each possible value separately, and dividing up the outcomes that result in that respective value.\n",
    "\n",
    "For example, what is the probability that $Z = 0$ ? This is equal to the chance that $X$ and $Y$ are both 0.\n",
    "\n",
    "What's the probability that $Z=1$ ? This is the probability that $X=1$ and $Y=0$ plus the probability that $X=0$ and $Y=1$.\n",
    "\n",
    "What's the probability that $Z=2$ ? This is the probability that $X=2$ and $Y=0$ plus the probability that $X=1$ and $Y=1$ plus . . . (you can see this gets tedious!)\n",
    "\n",
    "Happily NumPy, like any good numerical package, includes a function that convolves two distributions for us. Let's wrap it into a new function to convolve a distribution with itself, and use it to plot the convolution of the distribution we started with."
   ]
  },
  {
   "cell_type": "code",
   "execution_count": 3,
   "id": "dfba3f24",
   "metadata": {
    "scrolled": true
   },
   "outputs": [
    {
     "data": {
      "image/png": "[encoded data removed]",
      "text/plain": [
       "<Figure size 432x288 with 1 Axes>"
      ]
     },
     "metadata": {
      "needs_background": "light"
     },
     "output_type": "display_data"
    }
   ],
   "source": [
    "def convl(probs):\n",
    "    \"\"\"compute convolution of a distribution with itself\"\"\"\n",
    "    return numpy.convolve(probs, probs)\n",
    "\n",
    "pp = convl(p) # this computes the convolution we want\n",
    "xx = list(range(9)) # here is the convolved support\n",
    "matplotlib.pyplot.bar(xx, pp);"
   ]
  },
  {
   "cell_type": "markdown",
   "id": "6e65867b",
   "metadata": {},
   "source": [
    "Notice that central values are more likely, and values at the boundaries are relatively less likely than they were before, as the chances are 'averaging out.' This is typically the case. In fact, when we repeat this we start to see the central limit theorem kicking in!"
   ]
  },
  {
   "cell_type": "code",
   "execution_count": 4,
   "id": "f0c8bc73",
   "metadata": {
    "scrolled": true
   },
   "outputs": [
    {
     "data": {
      "image/png": "[encoded data removed]",
      "text/plain": [
       "<Figure size 432x288 with 1 Axes>"
      ]
     },
     "metadata": {
      "needs_background": "light"
     },
     "output_type": "display_data"
    }
   ],
   "source": [
    "pppp = convl(pp) \n",
    "xxxx = list(range(17)) \n",
    "matplotlib.pyplot.bar(xxxx, pppp);"
   ]
  },
  {
   "cell_type": "markdown",
   "id": "b2d35018",
   "metadata": {},
   "source": [
    "When we start with a different distribution over $\\{0,1,2,3,4\\}$, we'll get a different convolution back (although by the CLT, if we repeat the process enough we're going to eventually get something bell shaped!). For example:"
   ]
  },
  {
   "cell_type": "code",
   "execution_count": 5,
   "id": "e40945c6",
   "metadata": {
    "scrolled": false
   },
   "outputs": [
    {
     "data": {
      "image/png": "[encoded data removed]",
      "text/plain": [
       "<Figure size 432x288 with 1 Axes>"
      ]
     },
     "metadata": {
      "needs_background": "light"
     },
     "output_type": "display_data"
    }
   ],
   "source": [
    "p = [0.2, 0.2, 0.4, 0.1, 0.1] # here's a skewed, mound-shaped distribution\n",
    "pp = convl(p)\n",
    "matplotlib.pyplot.bar(xx, pp);"
   ]
  },
  {
   "cell_type": "markdown",
   "id": "1245eeab",
   "metadata": {},
   "source": [
    "Is it ever possible for the convolutions to *temporarily* (i.e. before iterating a few times) make things *less* bell shaped?\n",
    "\n",
    "For example, is it possible to find a unimodal distribution (i.e. mound-shaped, with only one peak) such that its convolution is bimodal (has two peaks)? Try for yourself!"
   ]
  }
 ],
 "metadata": {
  "kernelspec": {
   "display_name": "Python 3 (ipykernel)",
   "language": "python",
   "name": "python3"
  },
  "language_info": {
   "codemirror_mode": {
    "name": "ipython",
    "version": 3
   },
   "file_extension": ".py",
   "mimetype": "text/x-python",
   "name": "python",
   "nbconvert_exporter": "python",
   "pygments_lexer": "ipython3",
   "version": "3.9.5"
  }
 },
 "nbformat": 4,
 "nbformat_minor": 5
}
